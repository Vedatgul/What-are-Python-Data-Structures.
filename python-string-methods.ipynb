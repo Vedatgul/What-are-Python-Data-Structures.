{
 "cells": [
  {
   "cell_type": "markdown",
   "id": "294a71d9",
   "metadata": {
    "_cell_guid": "b1076dfc-b9ad-4769-8c92-a6c4dae69d19",
    "_uuid": "8f2839f25d086af736a60e9eeb907d3b93b6e0e5",
    "papermill": {
     "duration": 0.004844,
     "end_time": "2023-03-08T07:35:27.136564",
     "exception": false,
     "start_time": "2023-03-08T07:35:27.131720",
     "status": "completed"
    },
    "tags": []
   },
   "source": [
    "# What are Useful Python String Methods"
   ]
  },
  {
   "cell_type": "markdown",
   "id": "7db7e06b",
   "metadata": {
    "papermill": {
     "duration": 0.003707,
     "end_time": "2023-03-08T07:35:27.144435",
     "exception": false,
     "start_time": "2023-03-08T07:35:27.140728",
     "status": "completed"
    },
    "tags": []
   },
   "source": [
    "**Useful python string methods and examples are as follows. The phrase \"Hello AI World\" is used in the examples.**"
   ]
  },
  {
   "cell_type": "code",
   "execution_count": 1,
   "id": "d69fa5d2",
   "metadata": {
    "execution": {
     "iopub.execute_input": "2023-03-08T07:35:27.154088Z",
     "iopub.status.busy": "2023-03-08T07:35:27.153669Z",
     "iopub.status.idle": "2023-03-08T07:35:27.167900Z",
     "shell.execute_reply": "2023-03-08T07:35:27.166341Z"
    },
    "papermill": {
     "duration": 0.022624,
     "end_time": "2023-03-08T07:35:27.170761",
     "exception": false,
     "start_time": "2023-03-08T07:35:27.148137",
     "status": "completed"
    },
    "tags": []
   },
   "outputs": [
    {
     "data": {
      "text/plain": [
       "'hello ai world'"
      ]
     },
     "execution_count": 1,
     "metadata": {},
     "output_type": "execute_result"
    }
   ],
   "source": [
    "# lower(): Converts a string into lower case\n",
    "\n",
    "\"Hello AI World\".lower()"
   ]
  },
  {
   "cell_type": "code",
   "execution_count": 2,
   "id": "27fcfca0",
   "metadata": {
    "execution": {
     "iopub.execute_input": "2023-03-08T07:35:27.180793Z",
     "iopub.status.busy": "2023-03-08T07:35:27.180342Z",
     "iopub.status.idle": "2023-03-08T07:35:27.187194Z",
     "shell.execute_reply": "2023-03-08T07:35:27.185882Z"
    },
    "papermill": {
     "duration": 0.015409,
     "end_time": "2023-03-08T07:35:27.190119",
     "exception": false,
     "start_time": "2023-03-08T07:35:27.174710",
     "status": "completed"
    },
    "tags": []
   },
   "outputs": [
    {
     "data": {
      "text/plain": [
       "'HELLO AI WORLD'"
      ]
     },
     "execution_count": 2,
     "metadata": {},
     "output_type": "execute_result"
    }
   ],
   "source": [
    "# upper(): Converts a string into upper case\n",
    "\n",
    "\"Hello AI World\".upper()"
   ]
  },
  {
   "cell_type": "code",
   "execution_count": 3,
   "id": "d37a561a",
   "metadata": {
    "execution": {
     "iopub.execute_input": "2023-03-08T07:35:27.201168Z",
     "iopub.status.busy": "2023-03-08T07:35:27.200008Z",
     "iopub.status.idle": "2023-03-08T07:35:27.207309Z",
     "shell.execute_reply": "2023-03-08T07:35:27.206313Z"
    },
    "papermill": {
     "duration": 0.015472,
     "end_time": "2023-03-08T07:35:27.209963",
     "exception": false,
     "start_time": "2023-03-08T07:35:27.194491",
     "status": "completed"
    },
    "tags": []
   },
   "outputs": [
    {
     "data": {
      "text/plain": [
       "('', 'Hello', ' AI World')"
      ]
     },
     "execution_count": 3,
     "metadata": {},
     "output_type": "execute_result"
    }
   ],
   "source": [
    "# partition(): Returns a tuple where the string is parted into three parts\n",
    "\n",
    "word = \"Hello AI World\"\n",
    "word.partition(\"Hello\")"
   ]
  },
  {
   "cell_type": "code",
   "execution_count": 4,
   "id": "e1fa644f",
   "metadata": {
    "execution": {
     "iopub.execute_input": "2023-03-08T07:35:27.221016Z",
     "iopub.status.busy": "2023-03-08T07:35:27.220590Z",
     "iopub.status.idle": "2023-03-08T07:35:27.228408Z",
     "shell.execute_reply": "2023-03-08T07:35:27.227017Z"
    },
    "papermill": {
     "duration": 0.017066,
     "end_time": "2023-03-08T07:35:27.231663",
     "exception": false,
     "start_time": "2023-03-08T07:35:27.214597",
     "status": "completed"
    },
    "tags": []
   },
   "outputs": [
    {
     "data": {
      "text/plain": [
       "'Hello Python World'"
      ]
     },
     "execution_count": 4,
     "metadata": {},
     "output_type": "execute_result"
    }
   ],
   "source": [
    "# replace(): Returns a string where a specified value is replaced with a specified value\n",
    "\n",
    "word = \"Hello AI World\"\n",
    "word.replace(\"AI\", \"Python\")"
   ]
  },
  {
   "cell_type": "code",
   "execution_count": 5,
   "id": "abf38ffe",
   "metadata": {
    "execution": {
     "iopub.execute_input": "2023-03-08T07:35:27.242669Z",
     "iopub.status.busy": "2023-03-08T07:35:27.241984Z",
     "iopub.status.idle": "2023-03-08T07:35:27.248303Z",
     "shell.execute_reply": "2023-03-08T07:35:27.246991Z"
    },
    "papermill": {
     "duration": 0.014907,
     "end_time": "2023-03-08T07:35:27.250937",
     "exception": false,
     "start_time": "2023-03-08T07:35:27.236030",
     "status": "completed"
    },
    "tags": []
   },
   "outputs": [
    {
     "data": {
      "text/plain": [
       "6"
      ]
     },
     "execution_count": 5,
     "metadata": {},
     "output_type": "execute_result"
    }
   ],
   "source": [
    "# find(): Searches the string for a specified value and returns the position of where it was found\n",
    "word = \"Hello AI World\"\n",
    "word.find(\"AI\")"
   ]
  },
  {
   "cell_type": "code",
   "execution_count": 6,
   "id": "b19bef75",
   "metadata": {
    "execution": {
     "iopub.execute_input": "2023-03-08T07:35:27.262172Z",
     "iopub.status.busy": "2023-03-08T07:35:27.261489Z",
     "iopub.status.idle": "2023-03-08T07:35:27.268652Z",
     "shell.execute_reply": "2023-03-08T07:35:27.267261Z"
    },
    "papermill": {
     "duration": 0.016013,
     "end_time": "2023-03-08T07:35:27.271282",
     "exception": false,
     "start_time": "2023-03-08T07:35:27.255269",
     "status": "completed"
    },
    "tags": []
   },
   "outputs": [
    {
     "data": {
      "text/plain": [
       "14"
      ]
     },
     "execution_count": 6,
     "metadata": {},
     "output_type": "execute_result"
    }
   ],
   "source": [
    "# len(): Returns the number of characters of the string expression.\n",
    "word = \"Hello AI World\"\n",
    "len(word)"
   ]
  },
  {
   "cell_type": "code",
   "execution_count": 7,
   "id": "abfb0e00",
   "metadata": {
    "execution": {
     "iopub.execute_input": "2023-03-08T07:35:27.282515Z",
     "iopub.status.busy": "2023-03-08T07:35:27.282075Z",
     "iopub.status.idle": "2023-03-08T07:35:27.289838Z",
     "shell.execute_reply": "2023-03-08T07:35:27.288492Z"
    },
    "papermill": {
     "duration": 0.016616,
     "end_time": "2023-03-08T07:35:27.292448",
     "exception": false,
     "start_time": "2023-03-08T07:35:27.275832",
     "status": "completed"
    },
    "tags": []
   },
   "outputs": [
    {
     "data": {
      "text/plain": [
       "'Hello Ai World'"
      ]
     },
     "execution_count": 7,
     "metadata": {},
     "output_type": "execute_result"
    }
   ],
   "source": [
    "# title(): Converts the first character of each word to upper case\n",
    "word = \"hello ai world\"\n",
    "word.title() "
   ]
  },
  {
   "cell_type": "code",
   "execution_count": 8,
   "id": "17781299",
   "metadata": {
    "execution": {
     "iopub.execute_input": "2023-03-08T07:35:27.304164Z",
     "iopub.status.busy": "2023-03-08T07:35:27.302981Z",
     "iopub.status.idle": "2023-03-08T07:35:27.309741Z",
     "shell.execute_reply": "2023-03-08T07:35:27.308837Z"
    },
    "papermill": {
     "duration": 0.015223,
     "end_time": "2023-03-08T07:35:27.312193",
     "exception": false,
     "start_time": "2023-03-08T07:35:27.296970",
     "status": "completed"
    },
    "tags": []
   },
   "outputs": [
    {
     "data": {
      "text/plain": [
       "'hELLO ai wORLD'"
      ]
     },
     "execution_count": 8,
     "metadata": {},
     "output_type": "execute_result"
    }
   ],
   "source": [
    "# swapcase(): Swaps cases, lower case becomes upper case and vice versa\n",
    "word = \"Hello AI World\"\n",
    "word.swapcase()"
   ]
  },
  {
   "cell_type": "code",
   "execution_count": 9,
   "id": "a9b86151",
   "metadata": {
    "execution": {
     "iopub.execute_input": "2023-03-08T07:35:27.324343Z",
     "iopub.status.busy": "2023-03-08T07:35:27.323601Z",
     "iopub.status.idle": "2023-03-08T07:35:27.330926Z",
     "shell.execute_reply": "2023-03-08T07:35:27.329329Z"
    },
    "papermill": {
     "duration": 0.016886,
     "end_time": "2023-03-08T07:35:27.333774",
     "exception": false,
     "start_time": "2023-03-08T07:35:27.316888",
     "status": "completed"
    },
    "tags": []
   },
   "outputs": [
    {
     "data": {
      "text/plain": [
       "'H-e-l-l-o- -A-I- -W-o-r-l-d'"
      ]
     },
     "execution_count": 9,
     "metadata": {},
     "output_type": "execute_result"
    }
   ],
   "source": [
    "#join(): Converts the elements of an iterable into a string\n",
    "word = \"Hello AI World\"\n",
    "\"-\".join(word) "
   ]
  },
  {
   "cell_type": "code",
   "execution_count": 10,
   "id": "00b7e018",
   "metadata": {
    "execution": {
     "iopub.execute_input": "2023-03-08T07:35:27.345129Z",
     "iopub.status.busy": "2023-03-08T07:35:27.344689Z",
     "iopub.status.idle": "2023-03-08T07:35:27.352121Z",
     "shell.execute_reply": "2023-03-08T07:35:27.350933Z"
    },
    "papermill": {
     "duration": 0.016024,
     "end_time": "2023-03-08T07:35:27.354529",
     "exception": false,
     "start_time": "2023-03-08T07:35:27.338505",
     "status": "completed"
    },
    "tags": []
   },
   "outputs": [
    {
     "data": {
      "text/plain": [
       "['Hello', 'AI', 'World']"
      ]
     },
     "execution_count": 10,
     "metadata": {},
     "output_type": "execute_result"
    }
   ],
   "source": [
    "# split(): Splits the string at the specified separator, and returns a list\n",
    "word = \"Hello AI World\"\n",
    "word.split()"
   ]
  }
 ],
 "metadata": {
  "kernelspec": {
   "display_name": "Python 3",
   "language": "python",
   "name": "python3"
  },
  "language_info": {
   "codemirror_mode": {
    "name": "ipython",
    "version": 3
   },
   "file_extension": ".py",
   "mimetype": "text/x-python",
   "name": "python",
   "nbconvert_exporter": "python",
   "pygments_lexer": "ipython3",
   "version": "3.7.12"
  },
  "papermill": {
   "default_parameters": {},
   "duration": 14.104194,
   "end_time": "2023-03-08T07:35:28.082673",
   "environment_variables": {},
   "exception": null,
   "input_path": "__notebook__.ipynb",
   "output_path": "__notebook__.ipynb",
   "parameters": {},
   "start_time": "2023-03-08T07:35:13.978479",
   "version": "2.4.0"
  }
 },
 "nbformat": 4,
 "nbformat_minor": 5
}
