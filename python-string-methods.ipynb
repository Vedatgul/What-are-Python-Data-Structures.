{
 "cells": [
  {
   "cell_type": "markdown",
   "id": "5638ed85",
   "metadata": {
    "_cell_guid": "b1076dfc-b9ad-4769-8c92-a6c4dae69d19",
    "_uuid": "8f2839f25d086af736a60e9eeb907d3b93b6e0e5",
    "papermill": {
     "duration": 0.004998,
     "end_time": "2023-03-08T07:32:07.028289",
     "exception": false,
     "start_time": "2023-03-08T07:32:07.023291",
     "status": "completed"
    },
    "tags": []
   },
   "source": [
    "# What are Useful Python String Methods"
   ]
  },
  {
   "cell_type": "markdown",
   "id": "fe27a429",
   "metadata": {
    "papermill": {
     "duration": 0.003472,
     "end_time": "2023-03-08T07:32:07.035827",
     "exception": false,
     "start_time": "2023-03-08T07:32:07.032355",
     "status": "completed"
    },
    "tags": []
   },
   "source": [
    "**Useful python string methods and examples are as follows. The phrase \"Hello AI World\" is used in the examples.**"
   ]
  },
  {
   "cell_type": "code",
   "execution_count": 1,
   "id": "ad8a94e9",
   "metadata": {
    "execution": {
     "iopub.execute_input": "2023-03-08T07:32:07.045529Z",
     "iopub.status.busy": "2023-03-08T07:32:07.045126Z",
     "iopub.status.idle": "2023-03-08T07:32:07.059394Z",
     "shell.execute_reply": "2023-03-08T07:32:07.058084Z"
    },
    "papermill": {
     "duration": 0.022834,
     "end_time": "2023-03-08T07:32:07.062465",
     "exception": false,
     "start_time": "2023-03-08T07:32:07.039631",
     "status": "completed"
    },
    "tags": []
   },
   "outputs": [
    {
     "data": {
      "text/plain": [
       "'hello ai world'"
      ]
     },
     "execution_count": 1,
     "metadata": {},
     "output_type": "execute_result"
    }
   ],
   "source": [
    "# lower(): Converts a string into lower case\n",
    "\n",
    "\"Hello AI World\".lower()"
   ]
  },
  {
   "cell_type": "code",
   "execution_count": 2,
   "id": "091e937a",
   "metadata": {
    "execution": {
     "iopub.execute_input": "2023-03-08T07:32:07.072845Z",
     "iopub.status.busy": "2023-03-08T07:32:07.071803Z",
     "iopub.status.idle": "2023-03-08T07:32:07.079413Z",
     "shell.execute_reply": "2023-03-08T07:32:07.078305Z"
    },
    "papermill": {
     "duration": 0.015508,
     "end_time": "2023-03-08T07:32:07.082024",
     "exception": false,
     "start_time": "2023-03-08T07:32:07.066516",
     "status": "completed"
    },
    "tags": []
   },
   "outputs": [
    {
     "data": {
      "text/plain": [
       "'HELLO AI WORLD'"
      ]
     },
     "execution_count": 2,
     "metadata": {},
     "output_type": "execute_result"
    }
   ],
   "source": [
    "# upper(): Converts a string into upper case\n",
    "\n",
    "\"Hello AI World\".upper()"
   ]
  },
  {
   "cell_type": "code",
   "execution_count": 3,
   "id": "01984be4",
   "metadata": {
    "execution": {
     "iopub.execute_input": "2023-03-08T07:32:07.092246Z",
     "iopub.status.busy": "2023-03-08T07:32:07.091812Z",
     "iopub.status.idle": "2023-03-08T07:32:07.099770Z",
     "shell.execute_reply": "2023-03-08T07:32:07.098232Z"
    },
    "papermill": {
     "duration": 0.016455,
     "end_time": "2023-03-08T07:32:07.102466",
     "exception": false,
     "start_time": "2023-03-08T07:32:07.086011",
     "status": "completed"
    },
    "tags": []
   },
   "outputs": [
    {
     "data": {
      "text/plain": [
       "('', 'Hello', ' AI World')"
      ]
     },
     "execution_count": 3,
     "metadata": {},
     "output_type": "execute_result"
    }
   ],
   "source": [
    "# partition(): Returns a tuple where the string is parted into three parts\n",
    "\n",
    "word = \"Hello AI World\"\n",
    "word.partition(\"Hello\")"
   ]
  },
  {
   "cell_type": "code",
   "execution_count": 4,
   "id": "c00adbb5",
   "metadata": {
    "execution": {
     "iopub.execute_input": "2023-03-08T07:32:07.112687Z",
     "iopub.status.busy": "2023-03-08T07:32:07.112271Z",
     "iopub.status.idle": "2023-03-08T07:32:07.120200Z",
     "shell.execute_reply": "2023-03-08T07:32:07.118583Z"
    },
    "papermill": {
     "duration": 0.016418,
     "end_time": "2023-03-08T07:32:07.123077",
     "exception": false,
     "start_time": "2023-03-08T07:32:07.106659",
     "status": "completed"
    },
    "tags": []
   },
   "outputs": [
    {
     "data": {
      "text/plain": [
       "'Hello Python World'"
      ]
     },
     "execution_count": 4,
     "metadata": {},
     "output_type": "execute_result"
    }
   ],
   "source": [
    "# replace(): Returns a string where a specified value is replaced with a specified value\n",
    "\n",
    "word = \"Hello AI World\"\n",
    "word.replace(\"AI\", \"Python\")"
   ]
  },
  {
   "cell_type": "code",
   "execution_count": 5,
   "id": "47681918",
   "metadata": {
    "execution": {
     "iopub.execute_input": "2023-03-08T07:32:07.133797Z",
     "iopub.status.busy": "2023-03-08T07:32:07.133387Z",
     "iopub.status.idle": "2023-03-08T07:32:07.142294Z",
     "shell.execute_reply": "2023-03-08T07:32:07.140488Z"
    },
    "papermill": {
     "duration": 0.017695,
     "end_time": "2023-03-08T07:32:07.145225",
     "exception": false,
     "start_time": "2023-03-08T07:32:07.127530",
     "status": "completed"
    },
    "tags": []
   },
   "outputs": [
    {
     "data": {
      "text/plain": [
       "6"
      ]
     },
     "execution_count": 5,
     "metadata": {},
     "output_type": "execute_result"
    }
   ],
   "source": [
    "# find(): Searches the string for a specified value and returns the position of where it was found\n",
    "word = \"Hello AI World\"\n",
    "word.find(\"AI\")"
   ]
  },
  {
   "cell_type": "code",
   "execution_count": 6,
   "id": "721142b4",
   "metadata": {
    "execution": {
     "iopub.execute_input": "2023-03-08T07:32:07.156246Z",
     "iopub.status.busy": "2023-03-08T07:32:07.155817Z",
     "iopub.status.idle": "2023-03-08T07:32:07.163310Z",
     "shell.execute_reply": "2023-03-08T07:32:07.162046Z"
    },
    "papermill": {
     "duration": 0.016468,
     "end_time": "2023-03-08T07:32:07.166311",
     "exception": false,
     "start_time": "2023-03-08T07:32:07.149843",
     "status": "completed"
    },
    "tags": []
   },
   "outputs": [
    {
     "data": {
      "text/plain": [
       "14"
      ]
     },
     "execution_count": 6,
     "metadata": {},
     "output_type": "execute_result"
    }
   ],
   "source": [
    "# len(): Returns the number of characters of the string expression.\n",
    "word = \"Hello AI World\"\n",
    "len(word)"
   ]
  },
  {
   "cell_type": "code",
   "execution_count": 7,
   "id": "d853181b",
   "metadata": {
    "execution": {
     "iopub.execute_input": "2023-03-08T07:32:07.178486Z",
     "iopub.status.busy": "2023-03-08T07:32:07.178077Z",
     "iopub.status.idle": "2023-03-08T07:32:07.185518Z",
     "shell.execute_reply": "2023-03-08T07:32:07.184191Z"
    },
    "papermill": {
     "duration": 0.017433,
     "end_time": "2023-03-08T07:32:07.188189",
     "exception": false,
     "start_time": "2023-03-08T07:32:07.170756",
     "status": "completed"
    },
    "tags": []
   },
   "outputs": [
    {
     "data": {
      "text/plain": [
       "'Hello Ai World'"
      ]
     },
     "execution_count": 7,
     "metadata": {},
     "output_type": "execute_result"
    }
   ],
   "source": [
    "# title(): Converts the first character of each word to upper case\n",
    "word = \"hello ai world\"\n",
    "word.title() "
   ]
  },
  {
   "cell_type": "code",
   "execution_count": 8,
   "id": "6f384860",
   "metadata": {
    "execution": {
     "iopub.execute_input": "2023-03-08T07:32:07.200014Z",
     "iopub.status.busy": "2023-03-08T07:32:07.198798Z",
     "iopub.status.idle": "2023-03-08T07:32:07.206471Z",
     "shell.execute_reply": "2023-03-08T07:32:07.205216Z"
    },
    "papermill": {
     "duration": 0.016587,
     "end_time": "2023-03-08T07:32:07.209280",
     "exception": false,
     "start_time": "2023-03-08T07:32:07.192693",
     "status": "completed"
    },
    "tags": []
   },
   "outputs": [
    {
     "data": {
      "text/plain": [
       "'hELLO ai wORLD'"
      ]
     },
     "execution_count": 8,
     "metadata": {},
     "output_type": "execute_result"
    }
   ],
   "source": [
    "# swapcase(): Swaps cases, lower case becomes upper case and vice versa\n",
    "word = \"Hello AI World\"\n",
    "word.swapcase()"
   ]
  },
  {
   "cell_type": "code",
   "execution_count": 9,
   "id": "58cbffb8",
   "metadata": {
    "execution": {
     "iopub.execute_input": "2023-03-08T07:32:07.221260Z",
     "iopub.status.busy": "2023-03-08T07:32:07.220707Z",
     "iopub.status.idle": "2023-03-08T07:32:07.229683Z",
     "shell.execute_reply": "2023-03-08T07:32:07.228212Z"
    },
    "papermill": {
     "duration": 0.018424,
     "end_time": "2023-03-08T07:32:07.232507",
     "exception": false,
     "start_time": "2023-03-08T07:32:07.214083",
     "status": "completed"
    },
    "tags": []
   },
   "outputs": [
    {
     "data": {
      "text/plain": [
       "'H-e-l-l-o- -A-I- -W-o-r-l-d'"
      ]
     },
     "execution_count": 9,
     "metadata": {},
     "output_type": "execute_result"
    }
   ],
   "source": [
    "#join(): Converts the elements of an iterable into a string\n",
    "word = \"Hello AI World\"\n",
    "\"-\".join(word) "
   ]
  },
  {
   "cell_type": "code",
   "execution_count": 10,
   "id": "b028a403",
   "metadata": {
    "execution": {
     "iopub.execute_input": "2023-03-08T07:32:07.244630Z",
     "iopub.status.busy": "2023-03-08T07:32:07.243993Z",
     "iopub.status.idle": "2023-03-08T07:32:07.251543Z",
     "shell.execute_reply": "2023-03-08T07:32:07.250234Z"
    },
    "papermill": {
     "duration": 0.016371,
     "end_time": "2023-03-08T07:32:07.254025",
     "exception": false,
     "start_time": "2023-03-08T07:32:07.237654",
     "status": "completed"
    },
    "tags": []
   },
   "outputs": [
    {
     "data": {
      "text/plain": [
       "['Hello', 'AI', 'World']"
      ]
     },
     "execution_count": 10,
     "metadata": {},
     "output_type": "execute_result"
    }
   ],
   "source": [
    "# split(): Splits the string at the specified separator, and returns a list\n",
    "word = \"Hello AI World\"\n",
    "word.split()"
   ]
  }
 ],
 "metadata": {
  "kernelspec": {
   "display_name": "Python 3",
   "language": "python",
   "name": "python3"
  },
  "language_info": {
   "codemirror_mode": {
    "name": "ipython",
    "version": 3
   },
   "file_extension": ".py",
   "mimetype": "text/x-python",
   "name": "python",
   "nbconvert_exporter": "python",
   "pygments_lexer": "ipython3",
   "version": "3.7.12"
  },
  "papermill": {
   "default_parameters": {},
   "duration": 12.35321,
   "end_time": "2023-03-08T07:32:07.981528",
   "environment_variables": {},
   "exception": null,
   "input_path": "__notebook__.ipynb",
   "output_path": "__notebook__.ipynb",
   "parameters": {},
   "start_time": "2023-03-08T07:31:55.628318",
   "version": "2.4.0"
  }
 },
 "nbformat": 4,
 "nbformat_minor": 5
}
